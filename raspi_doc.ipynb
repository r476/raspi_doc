{
 "cells": [
  {
   "cell_type": "code",
   "execution_count": 15,
   "metadata": {},
   "outputs": [
    {
     "name": "stdout",
     "output_type": "stream",
     "text": [
      "5.0 seconds\n"
     ]
    }
   ],
   "source": [
    "start_time = time.time()\n",
    "reg = [g1.read_mb_register(i) for i in correct_mb_dict]\n",
    "print((f'{time.time() - start_time:.1f} seconds'))"
   ]
  },
  {
   "cell_type": "code",
   "execution_count": 22,
   "metadata": {},
   "outputs": [
    {
     "name": "stdout",
     "output_type": "stream",
     "text": [
      "0.9 seconds\n"
     ]
    }
   ],
   "source": [
    "start_time = time.time()\n",
    "g1.get_protections()\n",
    "print((f'{time.time() - start_time:.1f} seconds'))"
   ]
  },
  {
   "cell_type": "code",
   "execution_count": 1,
   "metadata": {
    "scrolled": false
   },
   "outputs": [],
   "source": [
    "import doc_objects\n",
    "import time\n",
    "import config\n",
    "\n",
    "# doc_objects.send_msg(723253749, 'Старт скрипта.')\n",
    "\n",
    "g1 = doc_objects.Genset('/dev/ttyS0', 1)\n",
    "g2 = doc_objects.Genset('/dev/ttyS0', 2)\n",
    "g3 = doc_objects.Genset('/dev/ttyS0', 3)\n",
    "g4 = doc_objects.Genset('/dev/ttyS0', 4)\n",
    "g5 = doc_objects.Genset('/dev/ttyS0', 5)\n",
    "\n",
    "doc = (g1, g2, g3, g4, g5)"
   ]
  },
  {
   "cell_type": "code",
   "execution_count": 2,
   "metadata": {},
   "outputs": [
    {
     "name": "stdout",
     "output_type": "stream",
     "text": [
      "13.6 seconds\n"
     ]
    }
   ],
   "source": [
    "start_time = time.time()\n",
    "for g in doc:\n",
    "    g.get_update()\n",
    "print((f'{time.time() - start_time:.1f} seconds'))"
   ]
  },
  {
   "cell_type": "code",
   "execution_count": 4,
   "metadata": {},
   "outputs": [
    {
     "data": {
      "text/plain": [
       "{'Binary#1',\n",
       " 'Binary#10',\n",
       " 'Binary#11',\n",
       " 'Binary#2',\n",
       " 'Binary#3',\n",
       " 'Binary#4',\n",
       " 'Binary#42',\n",
       " 'Binary#43',\n",
       " 'Binary#44',\n",
       " 'Binary#45',\n",
       " 'Binary#5',\n",
       " 'Binary#6',\n",
       " 'Binary#7',\n",
       " 'Binary#8',\n",
       " 'Binary#9',\n",
       " 'Integer',\n",
       " 'Unsigned'}"
      ]
     },
     "execution_count": 4,
     "metadata": {},
     "output_type": "execute_result"
    }
   ],
   "source": [
    "set([v['Type'] for k, v in g4.modbus_table.items()])"
   ]
  },
  {
   "cell_type": "code",
   "execution_count": 7,
   "metadata": {},
   "outputs": [
    {
     "data": {
      "text/plain": [
       "[('BIN', '0b10000001101010', ''),\n",
       " ('BIN-1', '0b00000011100010', ''),\n",
       " ('BIN-2', '0b00000010000010', ''),\n",
       " ('BIN-3', '0b00000000001111', ''),\n",
       " ('BIN-4', '0b00000000000000', ''),\n",
       " ('BIN-5', '0b00000001010101', ''),\n",
       " ('BIN-6', '0b00000000101001', ''),\n",
       " ('BIN-7', '0b00000001010100', ''),\n",
       " ('BIN-8', '0b00000000001010', ''),\n",
       " ('BOUT', '0b01000001000000', ''),\n",
       " ('Ubat', 25.9, 'V'),\n",
       " ('CPU temp', 26.8, '°C'),\n",
       " ('Engine Temp', 48.0, '°C'),\n",
       " ('Oil Pressure', 0.0, 'bar'),\n",
       " ('Oil Temp', 29.0, '°C'),\n",
       " ('Manifold Temp', 31.0, '°C'),\n",
       " ('Manifold Press', 2.2, 'bar'),\n",
       " ('Actual Timing', 0.0, '°'),\n",
       " ('Desired Timing', 0.0, '°'),\n",
       " ('Detonation', 0.0, ''),\n",
       " ('Cylinder 1', 36.0, '°C'),\n",
       " ('Cylinder 2', 36.0, '°C'),\n",
       " ('Cylinder 3', 37.0, '°C'),\n",
       " ('Cylinder 4', 35.0, '°C'),\n",
       " ('Cylinder 5', 36.0, '°C'),\n",
       " ('Cylinder 6', 36.0, '°C'),\n",
       " ('Cylinder 7', 37.0, '°C'),\n",
       " ('Cylinder 8', 35.0, '°C'),\n",
       " ('Cylinder 9', 37.0, '°C'),\n",
       " ('Cylinder 10', 35.0, '°C'),\n",
       " ('Cylinder 11', 35.0, '°C'),\n",
       " ('Cylinder 12', 35.0, '°C'),\n",
       " ('Cylinder 13', 36.0, '°C'),\n",
       " ('Cylinder 14', 36.0, '°C'),\n",
       " ('Cylinder 15', 35.0, '°C'),\n",
       " ('Cylinder 16', 35.0, '°C'),\n",
       " ('JW Flap Real', 96.0, '%'),\n",
       " ('AIN-4 2', 32768.0, '-'),\n",
       " ('AC InTemp', 10.5, '°C'),\n",
       " ('AC OutTemp', 12.0, '°C'),\n",
       " ('Gen Bearing', -3276.7, '°C'),\n",
       " ('JW InTemp', 8.7, '°C'),\n",
       " ('Gas Temp', 22.8, '°C'),\n",
       " ('ManifoldPress', 0.98, 'bar'),\n",
       " ('Temp ER 1', 24.1, '°C'),\n",
       " ('Temp ER 2', 30.3, '°C'),\n",
       " ('Temp Outside', 5.6, '°C'),\n",
       " ('Gas Pressure', 0.0, 'bar'),\n",
       " ('Gen WindA', 26.4, '°C'),\n",
       " ('Gen WindB', 26.7, '°C'),\n",
       " ('Gen WindC', 26.2, '°C'),\n",
       " ('TempJWOutEng', 68.0, '°C'),\n",
       " ('PLC-BOUT 1', '0b00000000011001', ''),\n",
       " ('PLC-BOUT 2', '0b00000000001000', ''),\n",
       " ('PLC-BOUT 3', '0b00000000000000', ''),\n",
       " ('PLC-BOUT 4', '0b00000001100000', ''),\n",
       " ('PLC-BOUT 5', '0b00000010101100', ''),\n",
       " ('PLC-BOUT 6', '0b00000000000000', ''),\n",
       " ('PLC-BOUT 7', '0b00000000000000', ''),\n",
       " ('PLC-BOUT 8', '0b00000010001010', ''),\n",
       " ('PLC-BOUT 9', '0b00000000101011', ''),\n",
       " ('PLC-BOUT 10', '0b00000000000000', ''),\n",
       " ('PLC-BOUT 11', '0b00000010000000', ''),\n",
       " ('PLC-BOUT 12', '0b00000000100110', ''),\n",
       " ('JW In Temp', 8.7, '°C'),\n",
       " ('AC In Temp', 10.2, '°C'),\n",
       " ('Vent Speed', 10000.0, '-'),\n",
       " ('Vent Speed 2', 10000.0, '-'),\n",
       " ('VentSpeed 3', 4000.0, '-'),\n",
       " ('VentSpeedInlet', 4000.0, '-'),\n",
       " ('VentSpeed Out', 4000.0, '-'),\n",
       " ('Max ER Temp', 30.3, '°C'),\n",
       " ('Max ER Temp', 30.3, '°C'),\n",
       " ('JW Flap AOUT', 9500.0, '-'),\n",
       " ('PLC-AOUT 11', 30.3, '°C'),\n",
       " ('JW FlapDesired', 98.0, '%'),\n",
       " ('Gen V L1-N', 0.0, 'V'),\n",
       " ('Gen V L2-N', 0.0, 'V'),\n",
       " ('Gen V L3-N', 0.0, 'V'),\n",
       " ('Gen V', 0.0, 'V'),\n",
       " ('Gen V L1-L2', 0.0, 'V'),\n",
       " ('Gen V L2-L3', 0.0, 'V'),\n",
       " ('Gen V L3-L1', 0.0, 'V'),\n",
       " ('Gen freq', 0.0, 'Hz'),\n",
       " ('Gen curr L1', 0.0, 'A'),\n",
       " ('Gen curr L2', 0.0, 'A'),\n",
       " ('Gen curr L3', 0.0, 'A'),\n",
       " ('Pwr factor', 0.0, ''),\n",
       " ('Load char', 32, ''),\n",
       " ('Act power', 0.0, 'kW'),\n",
       " ('Act pwr L1', 0.0, 'kW'),\n",
       " ('Act pwr L2', 0.0, 'kW'),\n",
       " ('Act pwr L3', 0.0, 'kW'),\n",
       " ('React power', 0.0, 'kVAr'),\n",
       " ('React pwr L1', 0.0, 'kVAr'),\n",
       " ('React pwr L2', 0.0, 'kVAr'),\n",
       " ('React pwr L3', 0.0, 'kVAr'),\n",
       " ('Appar pwr', 0.0, 'kVA'),\n",
       " ('Appar pwr L1', 0.0, 'kVA'),\n",
       " ('Appar pwr L2', 0.0, 'kVA'),\n",
       " ('Appar pwr L3', 0.0, 'kVA'),\n",
       " ('Pwr factor L1', 0.0, ''),\n",
       " ('Pwr factor L2', 0.0, ''),\n",
       " ('Pwr factor L3', 0.0, ''),\n",
       " ('Gen V unbal', 0.0, '%'),\n",
       " ('Gen I unbal', 0.0, '%'),\n",
       " ('Load char L1', 32, ''),\n",
       " ('Load char L2', 32, ''),\n",
       " ('Load char L3', 32, ''),\n",
       " ('Bus V L1-N', 231.0, 'V'),\n",
       " ('Bus V L2-N', 232.0, 'V'),\n",
       " ('Bus V L3-N', 232.0, 'V'),\n",
       " ('Bus V', 231.0, 'V'),\n",
       " ('Bus V L1-L2', 402.0, 'V'),\n",
       " ('Bus V L2-L3', 402.0, 'V'),\n",
       " ('Bus V L3-L1', 401.0, 'V'),\n",
       " ('EarthFC', 0.0, 'A'),\n",
       " ('Bus freq', 50.0, 'Hz'),\n",
       " ('Bus V unbal', 0.0, '%'),\n",
       " ('Slip freq', -49.99, 'Hz'),\n",
       " ('Angle', -3276.7, '°'),\n",
       " ('RPM', 0.0, 'RPM'),\n",
       " ('T Cyl aver', 35.0, '°C'),\n",
       " ('T Cyl max', 37.0, '°C'),\n",
       " ('T Cyl min', 35.0, '°C'),\n",
       " ('StatLdShed', 0, ''),\n",
       " ('ActPwrReq', 0.0, 'kW'),\n",
       " ('Speed request', 31.5, '%'),\n",
       " ('SpdRegOut', -3.699, 'V'),\n",
       " ('VoltRegOut', 50.0, '%'),\n",
       " ('SystLoadCtrl', 0, ''),\n",
       " ('SystPfCtrl', 0, ''),\n",
       " ('TotRunPact Q', 0.0, 'kVAr'),\n",
       " ('TotRunPact P', 0.0, 'kW'),\n",
       " ('EnginePriority', 2.0, ''),\n",
       " ('Act Reserve', -5796.0, 'kX'),\n",
       " ('Reserve', 10.0, 'kX'),\n",
       " ('Reserve Stp', 10.0, 'kX'),\n",
       " ('ActRes rel', 0.0, '%'),\n",
       " ('Res rel', 10.0, '%'),\n",
       " ('ResStp rel', 10.0, '%'),\n",
       " ('MinR PWR', 0.0, 'kW'),\n",
       " ('BOUT-1', '0b00000000000000', ''),\n",
       " ('BOUT-2', '0b00000000111000', ''),\n",
       " ('BOUT-3', '0b00000000000001', ''),\n",
       " ('SpeedReq RPM', 1444.0, 'RPM'),\n",
       " ('ReqEngineSpeed', 32768.0, 'RPM'),\n",
       " ('Nomin power', 850.0, 'kW'),\n",
       " ('Nomin current', 1804.0, 'A'),\n",
       " ('CT ratio prim', 2500.0, 'A'),\n",
       " ('CT ratio sec', 0, ''),\n",
       " ('EarthFltCurCTp', 300.0, 'A'),\n",
       " ('EarthFltCurCTs', 0, ''),\n",
       " ('VT ratio', 1.0, 'V/V'),\n",
       " ('Vg InpRangeSel', 0, ''),\n",
       " ('Vb VT ratio', 1.0, 'V/V'),\n",
       " ('Vb InpRangeSel', 0, ''),\n",
       " ('GenNomV', 231.0, 'V'),\n",
       " ('GenNomVph-ph', 400.0, 'V'),\n",
       " ('BusNomV', 231.0, 'V'),\n",
       " ('BusNomVph-ph', 400.0, 'V'),\n",
       " ('FixVoltProtSel', 0, ''),\n",
       " ('Gear teeth', 183.0, ''),\n",
       " ('Nominal RPM', 1500.0, 'RPM'),\n",
       " ('ControllerMode', 0, ''),\n",
       " ('FltRes GoToMAN', 0, ''),\n",
       " ('Local buttons', 2, ''),\n",
       " ('DispBaklightTO', 10.0, 'min'),\n",
       " ('Starting RPM', 250.0, 'RPM'),\n",
       " ('Starting POil', 10.0, 'bar'),\n",
       " ('Prestart time', 120.0, 's'),\n",
       " ('PrelubrTime', 0.0, 's'),\n",
       " ('PrelubrPause', 1.0, 'min'),\n",
       " ('MaxCrank time', 15.0, 's'),\n",
       " ('CrnkFail pause', 30.0, 's'),\n",
       " ('Crank attempts', 2.0, ''),\n",
       " ('Idle time', 3.0, 's'),\n",
       " ('Min stab time', 15.0, 's'),\n",
       " ('Max stab time', 30.0, 's'),\n",
       " ('Warming load', 20.0, '%'),\n",
       " ('Warming temp', 50.0, '°C'),\n",
       " ('Max warm time', 10.0, 's'),\n",
       " ('Cooling speed', 1, ''),\n",
       " ('Cooling time', 300.0, 's'),\n",
       " ('Cooldown optim', 0, ''),\n",
       " ('AfterCoolTime', 120.0, 's'),\n",
       " ('Stop time', 60.0, 's'),\n",
       " ('SDVentil time', 0.0, 's'),\n",
       " ('Fuel solenoid', 0, ''),\n",
       " ('FuelSol offset', 0.0, 's'),\n",
       " ('Horn timeout', 10.0, 's'),\n",
       " ('Overspeed', 110.0, '%'),\n",
       " ('Max+CylDifPmin', 50.0, '°C'),\n",
       " ('Max-CylDifPmin', 50.0, '°C'),\n",
       " ('Max+CylDifPnom', 50.0, '°C'),\n",
       " ('Max-CylDifPnom', 50.0, '°C'),\n",
       " ('PminCylDifEval', 500.0, 'kW'),\n",
       " ('CylDifEvalDel', 10.0, 's'),\n",
       " ('Derating1 strt', 0.0, 'x'),\n",
       " ('Derating1 end', 0.0, 'x'),\n",
       " ('Derating1 pwr', 50.0, '%'),\n",
       " ('Derating2 strt', 0.0, 'x'),\n",
       " ('Derating2 end', 0.0, 'x'),\n",
       " ('Derating2 pwr', 50.0, '%'),\n",
       " ('Synchro enable', 1, ''),\n",
       " ('LocalBaseload', 0.0, 'kW'),\n",
       " ('SysBaseLdMode', 0, ''),\n",
       " ('OverldStrtEval', 110.0, '%'),\n",
       " ('2POvrldStEvDel', 6.0, 's'),\n",
       " ('Min power PtM', 5.0, '%'),\n",
       " ('Ishort', 150.0, '%'),\n",
       " ('Ishort del', 1.0, 's'),\n",
       " ('2Inom del', 0.2, 's'),\n",
       " ('Gen >V BOC', 120.0, '%'),\n",
       " ('Gen >V Sd', 125.0, '%'),\n",
       " ('Gen <V BOC', 80.0, '%'),\n",
       " ('Gen V del', 2.0, 's'),\n",
       " ('BusMeasError', 1, ''),\n",
       " ('Gen >f', 105.0, '%'),\n",
       " ('Gen <f', 95.0, '%'),\n",
       " ('Gen f del', 10.0, 's'),\n",
       " ('SpeedRegChar', 0, ''),\n",
       " ('Voltage window', 10.0, '%'),\n",
       " ('GtoM AngleReq', 1.0, '°'),\n",
       " ('Phase window', 10.0, '°'),\n",
       " ('Dwell time', 0.3, 's'),\n",
       " ('Freq gain', 10.0, '%'),\n",
       " ('Freq int', 3.0, '%'),\n",
       " ('Freq reg loop', 1, ''),\n",
       " ('Angle gain', 10.0, '%'),\n",
       " ('Speed gov bias', 651.66, 'V'),\n",
       " ('SpeedGovLowLim', -5.29, 'V'),\n",
       " ('SpeedGovHiLim', 1.0, 'V'),\n",
       " ('Load ramp', 150.0, 's'),\n",
       " ('Load gain', 20.0, '%'),\n",
       " ('Load int', 2.0, '%'),\n",
       " ('GCB open level', 5.0, '%'),\n",
       " ('GCB open del', 300.0, 's'),\n",
       " ('Sync timeout', 180.0, 's'),\n",
       " ('LS gain', 10.0, '%'),\n",
       " ('LS int', 50.0, '%'),\n",
       " ('TauSpeedActuat', 10.0, 's'),\n",
       " ('RampStartLevel', 2.0, '%'),\n",
       " ('SpdGovPWM rate', 1200.0, 'Hz'),\n",
       " ('AVRRegChar', 0, ''),\n",
       " ('Voltage gain', 10.0, '%'),\n",
       " ('Voltage int', 50.0, '%'),\n",
       " ('PF gain', 10.0, '%'),\n",
       " ('PF int', 50.0, '%'),\n",
       " ('AVR DCout bias', 50.0, '%'),\n",
       " ('VS gain', 10.0, '%'),\n",
       " ('VS int', 50.0, '%'),\n",
       " ('TauVoltActuat', 10.0, 's'),\n",
       " ('AutoLd recon', 1, ''),\n",
       " ('Ld recon delay', 10.0, 's'),\n",
       " ('Ld shed level', 80.0, '%'),\n",
       " ('Ld shed delay', 10.0, 's'),\n",
       " ('Ld recon level', 20.0, '%'),\n",
       " ('ECU Diag', 1, ''),\n",
       " ('AC InTemp Yel', 50.0, '°C'),\n",
       " ('Batt >V', 30.0, 'V'),\n",
       " ('Batt <V', 22.0, 'V'),\n",
       " ('Gen V unbal', 10.0, '%'),\n",
       " ('Gen I unbal', 30.0, '%'),\n",
       " ('Bus V unbal', 10.0, '%'),\n",
       " ('AC OutTemp Yel', 55.0, '°C'),\n",
       " ('JW InTemp Yel', 95.0, '°C'),\n",
       " ('Gas Temp Yel', 55.0, '°C'),\n",
       " ('Temp ER 1 Yel', 55.0, '°C'),\n",
       " ('Engine Tem Yel', 105.0, '°C'),\n",
       " ('Oil Pressu Yel', 2.2, 'bar'),\n",
       " ('Oil Temp Yel', 105.0, '°C'),\n",
       " ('Temp ER 2 Yel', 55.0, '°C'),\n",
       " ('Gas Pressu Yel', 0.2, 'bar'),\n",
       " ('Temp ER 2 Yel', 3.0, '°C'),\n",
       " ('Gen WindA Yel', 120.0, '°C'),\n",
       " ('Gen WindA Red', 130.0, '°C'),\n",
       " ('Gen WindB Yel', 120.0, '°C'),\n",
       " ('Gen WindB Red', 130.0, '°C'),\n",
       " ('Gen WindC Yel', 120.0, '°C'),\n",
       " ('Gen WindC Red', 130.0, '°C'),\n",
       " ('Bus V Red', 286.0, 'V'),\n",
       " ('Bus V Red', 154.0, 'V'),\n",
       " ('Detonation Yel', 3.0, ''),\n",
       " ('ManifoldPr Yel', 3.5, 'bar'),\n",
       " ('TempJWOutE Yel', 105.0, '°C'),\n",
       " ('AC InTemp Del', 10.0, 's'),\n",
       " ('Batt volt del', 12.0, 's'),\n",
       " ('Gen V unb del', 10.0, 's'),\n",
       " ('Gen I unb del', 3.0, 's'),\n",
       " ('AC OutTemp Del', 10.0, 's'),\n",
       " ('Bus V unb del', 3.0, 's'),\n",
       " ('JW InTemp Del', 10.0, 's'),\n",
       " ('Gas Temp Del', 10.0, 's'),\n",
       " ('Temp ER 1 Del', 30.0, 's'),\n",
       " ('Engine Tem Del', 30.0, 's'),\n",
       " ('Oil Pressu Del', 30.0, 's'),\n",
       " ('Oil Temp Del', 30.0, 's'),\n",
       " ('Temp ER 2 Del', 30.0, 's'),\n",
       " ('Gas Pressu Del', 1.0, 's'),\n",
       " ('Temp ER 2 Del', 39.9, 's'),\n",
       " ('Gen WindA Del', 15.0, 's'),\n",
       " ('Gen WindB Del', 15.0, 's'),\n",
       " ('Gen WindC Del', 15.0, 's'),\n",
       " ('Bus V Del', 2.0, 's'),\n",
       " ('Bus V Del', 2.0, 's'),\n",
       " ('Detonation Del', 3.0, 's'),\n",
       " ('ManifoldPr Del', 0.0, 's'),\n",
       " ('TempJWOutE Del', 0.0, 's'),\n",
       " ('ER Heat Start', 20.0, '°C'),\n",
       " ('ER Heat Stop', 25.0, '°C'),\n",
       " ('Heat L&B Start', -24.9, '°C'),\n",
       " ('Heat L&B Stop', 30.0, '°C'),\n",
       " ('ER Temp >50', 51.0, '°C'),\n",
       " ('ER Temp <50', 45.0, '°C'),\n",
       " ('JWFan1 Start', 80.0, '°C'),\n",
       " ('JWFan1 Stop', 70.0, '°C'),\n",
       " ('ACFan1 Start', 35.0, '°C'),\n",
       " ('ACFan1 Stop', 20.0, '°C'),\n",
       " ('JWFan4 Start', 80.0, '°C'),\n",
       " ('JWFan4 Stop', 78.0, '°C'),\n",
       " ('ACFan4 Start', 40.0, '°C'),\n",
       " ('ACFan4 Stop', 35.0, '°C'),\n",
       " ('Out Lovers On', 33.0, '°C'),\n",
       " ('Out louversOff', 25.0, '°C'),\n",
       " ('A8 Louvers On', 30.0, '°C'),\n",
       " ('A8 Louvers Off', 25.0, '°C'),\n",
       " ('A9 Louvers On', 30.0, '°C'),\n",
       " ('A9 louvers Off', 27.0, '°C'),\n",
       " ('ER T Request', 32.0, '°C'),\n",
       " ('Vent MAN Speed', 4000.0, '-'),\n",
       " ('Vent Prestart', 5000.0, '-'),\n",
       " ('Delay Time Gas', 2.0, 's'),\n",
       " ('JWFan5 Start', 84.0, '°C'),\n",
       " ('JWFan5 Stop', 83.0, '°C'),\n",
       " ('ACFan5 Start', 40.0, '°C'),\n",
       " ('ACFan5 Stop', 35.0, '°C'),\n",
       " ('JWFan6 Start', 86.0, '°C'),\n",
       " ('JWFan6 Stop', 85.0, '°C'),\n",
       " ('ACFan6 Start', 40.0, '°C'),\n",
       " ('ACFan6 Stop', 35.0, '°C'),\n",
       " ('JW 3Way Reg', 90.0, '°C'),\n",
       " ('JW 3Way Gain', 100.0, '%'),\n",
       " ('JW 3Way Int', 100.0, '%'),\n",
       " ('JW Heater On', 38.0, '°C'),\n",
       " ('JW Heater Off', 50.0, '°C'),\n",
       " ('ER t gain', 30.0, '%'),\n",
       " ('ER t int', 0.01, '%'),\n",
       " ('ER t period', 0.5, 's'),\n",
       " ('Delay Eng Stop', 2.0, 's'),\n",
       " ('DriveEquipTime', 20.0, 's'),\n",
       " ('JW 3way MaxOut', -9999.0, '-'),\n",
       " ('JW 3way MinOut', 9500.0, '-'),\n",
       " ('Pwr management', 0, ''),\n",
       " ('Priority', 2.0, ''),\n",
       " ('Priority ctrl', 0, ''),\n",
       " ('Control group', 1.0, ''),\n",
       " ('GroupLinkLeft', 1.0, ''),\n",
       " ('GroupLinkRight', 1.0, ''),\n",
       " ('CoolDnAfterBOC', 0, ''),\n",
       " ('Ld shed active', 0, ''),\n",
       " ('DispBklStrtOff', 0, ''),\n",
       " ('SysBasePFMode', 0, ''),\n",
       " ('SHxOcol Detect', 1, ''),\n",
       " ('Reverse power', 15.0, '%'),\n",
       " ('ReversePwr del', 10.0, 's'),\n",
       " ('LB/UART Log', 0, ''),\n",
       " ('WatchedContr', 0.0, ''),\n",
       " ('MaxFuelDrop', 25.0, '%/h'),\n",
       " ('Nominal freq', 0, ''),\n",
       " ('Nom frq offset', 0.0, 'Hz'),\n",
       " ('ExcitationLoss', 30.0, '%'),\n",
       " ('ExctLoss del', 0.0, 's'),\n",
       " ('Nom EthFltCurr', 10.0, 'A'),\n",
       " ('2EthFltCur del', 0.0, 's')]"
      ]
     },
     "execution_count": 7,
     "metadata": {},
     "output_type": "execute_result"
    }
   ],
   "source": [
    "[(v['Name'], v['Curr_val'], v['Dim']) for k, v in g2.modbus_table.items()]"
   ]
  },
  {
   "cell_type": "code",
   "execution_count": 9,
   "metadata": {},
   "outputs": [
    {
     "name": "stdout",
     "output_type": "stream",
     "text": [
      "4.5 seconds\n"
     ]
    }
   ],
   "source": [
    "g = g4\n",
    "\n",
    "def _formating_register(adr, reg):\n",
    "    # Если бинарное число, то возвращаю в двоичном виде\n",
    "    if g.modbus_table[adr]['Type'].lower()[:3] == 'bin':\n",
    "        return format(reg, '#016b')\n",
    "    # Отрицательное число определяю по косвенным признакам\n",
    "    elif (not g.modbus_table[adr]['Min'].isdigit()) and len(g.modbus_table[adr]['Min'])-1 and g.modbus_table[adr]['Min'][-1]!='*' and reg&0b1000000000000000:\n",
    "        reg = reg - 65535\n",
    "    # Десятичная точка\n",
    "    dec = g.modbus_table[adr]['Dec']\n",
    "    if dec!='-':\n",
    "        reg = reg/10**int(dec)\n",
    "    return reg\n",
    "    \n",
    "    \n",
    "    \n",
    "def get_update():\n",
    "    chank_arr = g.get_chunk_intervals(list(g.modbus_table.keys()))\n",
    "    for chank in chank_arr:\n",
    "        regs = g.read_mb_registers(chank[0], chank[1])\n",
    "        if regs:\n",
    "            for c in range(len(regs)):\n",
    "                adr = chank[0] + c\n",
    "                g.modbus_table[adr]['Prev_val'] = g.modbus_table[adr]['Curr_val']\n",
    "                g.modbus_table[adr]['Curr_val'] = _formating_register(adr, regs[c])\n",
    "    return None\n",
    "\n",
    "start_time = time.time()\n",
    "get_update()\n",
    "print((f'{time.time() - start_time:.1f} seconds'))"
   ]
  },
  {
   "cell_type": "code",
   "execution_count": 31,
   "metadata": {},
   "outputs": [
    {
     "data": {
      "text/plain": [
       "'bin'"
      ]
     },
     "execution_count": 31,
     "metadata": {},
     "output_type": "execute_result"
    }
   ],
   "source": [
    "format(3, '#016b')\n",
    "g4.modbus_table[5]['Type'].lower()[:3] == 'bin'"
   ]
  },
  {
   "cell_type": "markdown",
   "metadata": {},
   "source": [
    "У меня есть массив данных, вся таблица регистров, но мне они все не нужны. Есть критерии для опроса\n",
    "Надо опрашивать, только то что надо, что не надо опрашивать не надо\n",
    "long опрашиваю отдельно, их не надо в пакетный опрос включать\n",
    "Должны быть две группы параметров, для регулярного внесения в БД и для внесения по изменению (это статические параметры)"
   ]
  },
  {
   "cell_type": "code",
   "execution_count": 12,
   "metadata": {},
   "outputs": [
    {
     "data": {
      "text/plain": [
       "('Analog protect',\n",
       " 'Basic settings',\n",
       " 'Comms settings',\n",
       " 'Engine params',\n",
       " 'Engine protect',\n",
       " 'Gener protect',\n",
       " 'Load shedding',\n",
       " 'Mains protect',\n",
       " 'PLC',\n",
       " 'ProcessControl',\n",
       " 'Pwr management',\n",
       " 'Sync/Load ctrl',\n",
       " 'Volt/PF ctrl',\n",
       " 'Analog CU',\n",
       " 'AnalogInputs 1',\n",
       " 'AnalogInputs 2',\n",
       " 'AnalogInputs 3',\n",
       " 'AnalogInputs 4',\n",
       " 'AnalogInputs 5',\n",
       " 'Bus values',\n",
       " 'Engine values',\n",
       " 'Gener values',\n",
       " 'Bin inputs CU',\n",
       " 'Bin outputs CU',\n",
       " 'Binary Inputs',\n",
       " 'Binary Outputs')"
      ]
     },
     "execution_count": 12,
     "metadata": {},
     "output_type": "execute_result"
    }
   ],
   "source": [
    "config.values_if_changed + config.regular_values"
   ]
  },
  {
   "cell_type": "code",
   "execution_count": 17,
   "metadata": {
    "scrolled": true
   },
   "outputs": [
    {
     "data": {
      "text/plain": [
       "443"
      ]
     },
     "execution_count": 17,
     "metadata": {},
     "output_type": "execute_result"
    }
   ],
   "source": [
    "import config\n",
    "len({(v['Name'], v['Curr_val']) for k, v in g1.modbus_table.items() if v['Group'] in (config.values_if_changed + config.regular_values) and v['Name'] not in (config.val_ignore_list)})"
   ]
  },
  {
   "cell_type": "code",
   "execution_count": 9,
   "metadata": {},
   "outputs": [
    {
     "name": "stdout",
     "output_type": "stream",
     "text": [
      "21.1 seconds\n"
     ]
    }
   ],
   "source": [
    "start_time = time.time()\n",
    "\n",
    "for adr in g1.modbus_table:\n",
    "    # Проверяю условия:\n",
    "    # если 'Name' в списке игнорируемых, то пропускаю цикл\n",
    "    if g1.modbus_table[adr]['Name'] in config.val_ignore_list:\n",
    "        continue\n",
    "    # если 'Name' в списке для read_long, то читаю функцией read_long\n",
    "    elif g1.modbus_table[adr]['Name'] in config.var_long_list:\n",
    "        g1.modbus_table[adr]['Curr_val'] = g1.read_mb_long(adr)\n",
    "        continue\n",
    "    # если max<0 то signed\n",
    "#     elif (not g1.modbus_table[adr]['Min'].isdigit()) and len(g1.modbus_table[adr]['Min'])-1 and g1.modbus_table[adr]['Min'][-1]!='*':\n",
    "#         g1.modbus_table[adr]['Curr_val'] = int(g1.read_mb_register(adr))-65535\n",
    "    # если 'Type' is 'bin', то записываю в двоичном виде\n",
    "    g1.modbus_table[adr]['Curr_val'] = g1.read_mb_register(adr)\n",
    "    \n",
    "print((f'{time.time() - start_time:.1f} seconds'))"
   ]
  },
  {
   "cell_type": "code",
   "execution_count": 9,
   "metadata": {},
   "outputs": [
    {
     "data": {
      "text/plain": [
       "5729234"
      ]
     },
     "execution_count": 9,
     "metadata": {},
     "output_type": "execute_result"
    }
   ],
   "source": [
    "g1.read_mb_long(3594)"
   ]
  },
  {
   "cell_type": "code",
   "execution_count": 2,
   "metadata": {
    "scrolled": true
   },
   "outputs": [
    {
     "name": "stdout",
     "output_type": "stream",
     "text": [
      "ГПГУ1, наработка: 8469 мч\n",
      "ГПГУ2, наработка: 7930 мч\n",
      "ГПГУ3, наработка: None мч\n",
      "ГПГУ4, наработка: [0, 9249] мч\n",
      "ГПГУ5, наработка: None мч\n"
     ]
    }
   ],
   "source": [
    "print(f'ГПГУ{g1.address}, наработка: {g1.read_long(3586)} мч')\n",
    "print(f'ГПГУ{g2.address}, наработка: {g2.read_long(3586)} мч')\n",
    "print(f'ГПГУ{g3.address}, наработка: {g3.read_mb_registers(3821, 2)} мч')\n",
    "print(f'ГПГУ{g4.address}, наработка: {g4.read_mb_registers(3821, 2)} мч')\n",
    "print(f'ГПГУ{g5.address}, наработка: {g5.read_mb_registers(3821, 2)} мч')"
   ]
  },
  {
   "cell_type": "code",
   "execution_count": null,
   "metadata": {},
   "outputs": [],
   "source": [
    "ГПГУ1, наработка: 8461 мч\n",
    "ГПГУ2, наработка: 7930 мч\n",
    "ГПГУ3, наработка: None мч\n",
    "ГПГУ4, наработка: [0, 9241] мч\n",
    "ГПГУ5, наработка: None мч"
   ]
  },
  {
   "cell_type": "code",
   "execution_count": 5,
   "metadata": {},
   "outputs": [],
   "source": [
    "import telebot\n",
    "token = '1325955552:AAHQJzvhu-IhcMpsVGX5dUsfXTJ7fFECoJs'\n",
    "\n",
    "tb = telebot.TeleBot(token)"
   ]
  }
 ],
 "metadata": {
  "kernelspec": {
   "display_name": "Python 3",
   "language": "python",
   "name": "python3"
  },
  "language_info": {
   "codemirror_mode": {
    "name": "ipython",
    "version": 3
   },
   "file_extension": ".py",
   "mimetype": "text/x-python",
   "name": "python",
   "nbconvert_exporter": "python",
   "pygments_lexer": "ipython3",
   "version": "3.7.3"
  }
 },
 "nbformat": 4,
 "nbformat_minor": 2
}
