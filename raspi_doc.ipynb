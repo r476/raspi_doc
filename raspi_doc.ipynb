{
 "cells": [
  {
   "cell_type": "code",
   "execution_count": 3,
   "metadata": {},
   "outputs": [],
   "source": [
    "!rm debug_log"
   ]
  },
  {
   "cell_type": "code",
   "execution_count": 1,
   "metadata": {},
   "outputs": [
    {
     "name": "stdout",
     "output_type": "stream",
     "text": [
      "ГПГУ4, None: None\n",
      "ГПГУ4, 1: 1\n",
      "ГПГУ1, None: None\n",
      "ГПГУ1, None: None\n",
      "ГПГУ1, None: None\n",
      "ГПГУ1, Loaded: Loaded\n",
      "ГПГУ1, MultParOp: MultParOp\n",
      "ГПГУ1, 1: 1\n"
     ]
    },
    {
     "ename": "KeyboardInterrupt",
     "evalue": "",
     "output_type": "error",
     "traceback": [
      "\u001b[0;31m---------------------------------------------------------------------------\u001b[0m",
      "\u001b[0;31mKeyboardInterrupt\u001b[0m                         Traceback (most recent call last)",
      "\u001b[0;32m<ipython-input-1-aaf0ffb67bf1>\u001b[0m in \u001b[0;36m<module>\u001b[0;34m()\u001b[0m\n\u001b[1;32m     19\u001b[0m \u001b[0;31m#     start_time = time.time()\u001b[0m\u001b[0;34m\u001b[0m\u001b[0;34m\u001b[0m\u001b[0;34m\u001b[0m\u001b[0m\n\u001b[1;32m     20\u001b[0m     \u001b[0;32mfor\u001b[0m \u001b[0mg\u001b[0m \u001b[0;32min\u001b[0m \u001b[0mdoc\u001b[0m\u001b[0;34m:\u001b[0m\u001b[0;34m\u001b[0m\u001b[0;34m\u001b[0m\u001b[0m\n\u001b[0;32m---> 21\u001b[0;31m         \u001b[0mg\u001b[0m\u001b[0;34m.\u001b[0m\u001b[0mupdates_values\u001b[0m\u001b[0;34m(\u001b[0m\u001b[0;34m)\u001b[0m\u001b[0;34m\u001b[0m\u001b[0;34m\u001b[0m\u001b[0m\n\u001b[0m\u001b[1;32m     22\u001b[0m \u001b[0;34m\u001b[0m\u001b[0m\n\u001b[1;32m     23\u001b[0m         \u001b[0;32mif\u001b[0m \u001b[0mg\u001b[0m\u001b[0;34m.\u001b[0m\u001b[0mengine_state\u001b[0m \u001b[0;34m!=\u001b[0m \u001b[0mg\u001b[0m\u001b[0;34m.\u001b[0m\u001b[0mprev_engine_state\u001b[0m\u001b[0;34m:\u001b[0m\u001b[0;34m\u001b[0m\u001b[0;34m\u001b[0m\u001b[0m\n",
      "\u001b[0;32m/home/pi/Documents/PythonScripts/raspi_doc/doc_objects.py\u001b[0m in \u001b[0;36mupdates_values\u001b[0;34m(self)\u001b[0m\n\u001b[1;32m    166\u001b[0m         \u001b[0mself\u001b[0m\u001b[0;34m.\u001b[0m\u001b[0mprev_protections\u001b[0m \u001b[0;34m=\u001b[0m \u001b[0mself\u001b[0m\u001b[0;34m.\u001b[0m\u001b[0mprotections\u001b[0m\u001b[0;34m\u001b[0m\u001b[0;34m\u001b[0m\u001b[0m\n\u001b[1;32m    167\u001b[0m \u001b[0;34m\u001b[0m\u001b[0m\n\u001b[0;32m--> 168\u001b[0;31m         \u001b[0mself\u001b[0m\u001b[0;34m.\u001b[0m\u001b[0mengine_state\u001b[0m \u001b[0;34m=\u001b[0m \u001b[0mself\u001b[0m\u001b[0;34m.\u001b[0m\u001b[0mget_engines_state\u001b[0m\u001b[0;34m(\u001b[0m\u001b[0;34m)\u001b[0m\u001b[0;34m\u001b[0m\u001b[0;34m\u001b[0m\u001b[0m\n\u001b[0m\u001b[1;32m    169\u001b[0m         \u001b[0mself\u001b[0m\u001b[0;34m.\u001b[0m\u001b[0mbreaker_state\u001b[0m \u001b[0;34m=\u001b[0m \u001b[0mself\u001b[0m\u001b[0;34m.\u001b[0m\u001b[0mget_breaker_state\u001b[0m\u001b[0;34m(\u001b[0m\u001b[0;34m)\u001b[0m\u001b[0;34m\u001b[0m\u001b[0;34m\u001b[0m\u001b[0m\n\u001b[1;32m    170\u001b[0m         \u001b[0mself\u001b[0m\u001b[0;34m.\u001b[0m\u001b[0mgcb_state\u001b[0m \u001b[0;34m=\u001b[0m \u001b[0mself\u001b[0m\u001b[0;34m.\u001b[0m\u001b[0mget_gcb_state\u001b[0m\u001b[0;34m(\u001b[0m\u001b[0;34m)\u001b[0m\u001b[0;34m\u001b[0m\u001b[0;34m\u001b[0m\u001b[0m\n",
      "\u001b[0;32m/home/pi/Documents/PythonScripts/raspi_doc/doc_objects.py\u001b[0m in \u001b[0;36mget_engines_state\u001b[0;34m(self)\u001b[0m\n\u001b[1;32m     55\u001b[0m         \u001b[0mengine_state\u001b[0m \u001b[0;34m=\u001b[0m \u001b[0;34m(\u001b[0m\u001b[0;34m'Init'\u001b[0m\u001b[0;34m,\u001b[0m \u001b[0;34m'Ready'\u001b[0m\u001b[0;34m,\u001b[0m \u001b[0;34m'NotReady'\u001b[0m\u001b[0;34m,\u001b[0m \u001b[0;34m'Prestart'\u001b[0m\u001b[0;34m,\u001b[0m \u001b[0;34m'Cranking'\u001b[0m\u001b[0;34m,\u001b[0m \u001b[0;34m'Pause'\u001b[0m\u001b[0;34m,\u001b[0m \u001b[0;34m'Starting'\u001b[0m\u001b[0;34m,\u001b[0m \u001b[0;34m'Running'\u001b[0m\u001b[0;34m,\u001b[0m \u001b[0;34m'Loaded'\u001b[0m\u001b[0;34m,\u001b[0m \u001b[0;34m'Soft unld'\u001b[0m\u001b[0;34m,\u001b[0m \u001b[0;34m'Cooling'\u001b[0m\u001b[0;34m,\u001b[0m \u001b[0;34m'Stop'\u001b[0m\u001b[0;34m,\u001b[0m \u001b[0;34m'Shutdown'\u001b[0m\u001b[0;34m,\u001b[0m \u001b[0;34m'Ventil'\u001b[0m\u001b[0;34m,\u001b[0m \u001b[0;34m'EmergMan'\u001b[0m\u001b[0;34m,\u001b[0m \u001b[0;34m'Cooldown'\u001b[0m\u001b[0;34m,\u001b[0m \u001b[0;34m'Offload'\u001b[0m\u001b[0;34m,\u001b[0m \u001b[0;34m'Soft load'\u001b[0m\u001b[0;34m,\u001b[0m \u001b[0;34m'WaitStop'\u001b[0m\u001b[0;34m,\u001b[0m \u001b[0;34m'Warming'\u001b[0m\u001b[0;34m,\u001b[0m \u001b[0;34m'SDVentil'\u001b[0m\u001b[0;34m,\u001b[0m \u001b[0;34m'WD test'\u001b[0m\u001b[0;34m,\u001b[0m \u001b[0;34m'GasVTest'\u001b[0m\u001b[0;34m,\u001b[0m \u001b[0;34m'StrtCndWai'\u001b[0m\u001b[0;34m)\u001b[0m\u001b[0;34m\u001b[0m\u001b[0;34m\u001b[0m\u001b[0m\n\u001b[1;32m     56\u001b[0m         \u001b[0mregisteraddress\u001b[0m \u001b[0;34m=\u001b[0m \u001b[0;36m162\u001b[0m \u001b[0;32mif\u001b[0m \u001b[0mself\u001b[0m\u001b[0;34m.\u001b[0m\u001b[0maddress\u001b[0m \u001b[0;32min\u001b[0m \u001b[0;34m(\u001b[0m\u001b[0;36m1\u001b[0m\u001b[0;34m,\u001b[0m \u001b[0;36m2\u001b[0m\u001b[0;34m)\u001b[0m \u001b[0;32melse\u001b[0m \u001b[0;36m295\u001b[0m\u001b[0;34m\u001b[0m\u001b[0;34m\u001b[0m\u001b[0m\n\u001b[0;32m---> 57\u001b[0;31m         \u001b[0mvalue\u001b[0m \u001b[0;34m=\u001b[0m \u001b[0mself\u001b[0m\u001b[0;34m.\u001b[0m\u001b[0mread_mb_register\u001b[0m\u001b[0;34m(\u001b[0m\u001b[0mregisteraddress\u001b[0m\u001b[0;34m)\u001b[0m\u001b[0;34m\u001b[0m\u001b[0;34m\u001b[0m\u001b[0m\n\u001b[0m\u001b[1;32m     58\u001b[0m         \u001b[0;32mif\u001b[0m \u001b[0;32mnot\u001b[0m \u001b[0mvalue\u001b[0m\u001b[0;34m:\u001b[0m \u001b[0;32mreturn\u001b[0m \u001b[0;32mNone\u001b[0m\u001b[0;34m\u001b[0m\u001b[0;34m\u001b[0m\u001b[0m\n\u001b[1;32m     59\u001b[0m         \u001b[0mengine_state_return\u001b[0m \u001b[0;34m=\u001b[0m \u001b[0mengine_state\u001b[0m\u001b[0;34m[\u001b[0m\u001b[0mvalue\u001b[0m\u001b[0;34m]\u001b[0m\u001b[0;34m\u001b[0m\u001b[0;34m\u001b[0m\u001b[0m\n",
      "\u001b[0;32m/home/pi/Documents/PythonScripts/raspi_doc/doc_objects.py\u001b[0m in \u001b[0;36mread_mb_register\u001b[0;34m(self, registeraddress, number_of_decimals, functioncode, signed)\u001b[0m\n\u001b[1;32m     36\u001b[0m         \u001b[0;32mfor\u001b[0m \u001b[0mc\u001b[0m \u001b[0;32min\u001b[0m \u001b[0mrange\u001b[0m\u001b[0;34m(\u001b[0m\u001b[0;36m15\u001b[0m\u001b[0;34m)\u001b[0m\u001b[0;34m:\u001b[0m\u001b[0;34m\u001b[0m\u001b[0;34m\u001b[0m\u001b[0m\n\u001b[1;32m     37\u001b[0m             \u001b[0;32mtry\u001b[0m\u001b[0;34m:\u001b[0m\u001b[0;34m\u001b[0m\u001b[0;34m\u001b[0m\u001b[0m\n\u001b[0;32m---> 38\u001b[0;31m                 \u001b[0;32mreturn\u001b[0m \u001b[0mself\u001b[0m\u001b[0;34m.\u001b[0m\u001b[0mread_register\u001b[0m\u001b[0;34m(\u001b[0m\u001b[0mregisteraddress\u001b[0m\u001b[0;34m,\u001b[0m \u001b[0mnumber_of_decimals\u001b[0m\u001b[0;34m,\u001b[0m \u001b[0mfunctioncode\u001b[0m\u001b[0;34m,\u001b[0m \u001b[0msigned\u001b[0m\u001b[0;34m)\u001b[0m\u001b[0;34m\u001b[0m\u001b[0;34m\u001b[0m\u001b[0m\n\u001b[0m\u001b[1;32m     39\u001b[0m             \u001b[0;32mexcept\u001b[0m \u001b[0mException\u001b[0m \u001b[0;32mas\u001b[0m \u001b[0me\u001b[0m\u001b[0;34m:\u001b[0m\u001b[0;34m\u001b[0m\u001b[0;34m\u001b[0m\u001b[0m\n\u001b[1;32m     40\u001b[0m                 \u001b[0;32mpass\u001b[0m\u001b[0;34m\u001b[0m\u001b[0;34m\u001b[0m\u001b[0m\n",
      "\u001b[0;32m/home/pi/.local/lib/python3.7/site-packages/minimalmodbus.py\u001b[0m in \u001b[0;36mread_register\u001b[0;34m(self, registeraddress, number_of_decimals, functioncode, signed)\u001b[0m\n\u001b[1;32m    445\u001b[0m             \u001b[0mnumber_of_registers\u001b[0m\u001b[0;34m=\u001b[0m\u001b[0;36m1\u001b[0m\u001b[0;34m,\u001b[0m\u001b[0;34m\u001b[0m\u001b[0;34m\u001b[0m\u001b[0m\n\u001b[1;32m    446\u001b[0m             \u001b[0msigned\u001b[0m\u001b[0;34m=\u001b[0m\u001b[0msigned\u001b[0m\u001b[0;34m,\u001b[0m\u001b[0;34m\u001b[0m\u001b[0;34m\u001b[0m\u001b[0m\n\u001b[0;32m--> 447\u001b[0;31m             \u001b[0mpayloadformat\u001b[0m\u001b[0;34m=\u001b[0m\u001b[0m_PAYLOADFORMAT_REGISTER\u001b[0m\u001b[0;34m,\u001b[0m\u001b[0;34m\u001b[0m\u001b[0;34m\u001b[0m\u001b[0m\n\u001b[0m\u001b[1;32m    448\u001b[0m         )\n\u001b[1;32m    449\u001b[0m \u001b[0;34m\u001b[0m\u001b[0m\n",
      "\u001b[0;32m/home/pi/.local/lib/python3.7/site-packages/minimalmodbus.py\u001b[0m in \u001b[0;36m_generic_command\u001b[0;34m(self, functioncode, registeraddress, value, number_of_decimals, number_of_registers, number_of_bits, signed, byteorder, payloadformat)\u001b[0m\n\u001b[1;32m   1168\u001b[0m \u001b[0;34m\u001b[0m\u001b[0m\n\u001b[1;32m   1169\u001b[0m         \u001b[0;31m# Communicate with instrument\u001b[0m\u001b[0;34m\u001b[0m\u001b[0;34m\u001b[0m\u001b[0;34m\u001b[0m\u001b[0m\n\u001b[0;32m-> 1170\u001b[0;31m         \u001b[0mpayload_from_slave\u001b[0m \u001b[0;34m=\u001b[0m \u001b[0mself\u001b[0m\u001b[0;34m.\u001b[0m\u001b[0m_perform_command\u001b[0m\u001b[0;34m(\u001b[0m\u001b[0mfunctioncode\u001b[0m\u001b[0;34m,\u001b[0m \u001b[0mpayload_to_slave\u001b[0m\u001b[0;34m)\u001b[0m\u001b[0;34m\u001b[0m\u001b[0;34m\u001b[0m\u001b[0m\n\u001b[0m\u001b[1;32m   1171\u001b[0m \u001b[0;34m\u001b[0m\u001b[0m\n\u001b[1;32m   1172\u001b[0m         \u001b[0;31m# Parse response payload\u001b[0m\u001b[0;34m\u001b[0m\u001b[0;34m\u001b[0m\u001b[0;34m\u001b[0m\u001b[0m\n",
      "\u001b[0;32m/home/pi/.local/lib/python3.7/site-packages/minimalmodbus.py\u001b[0m in \u001b[0;36m_perform_command\u001b[0;34m(self, functioncode, payload_to_slave)\u001b[0m\n\u001b[1;32m   1238\u001b[0m \u001b[0;34m\u001b[0m\u001b[0m\n\u001b[1;32m   1239\u001b[0m         \u001b[0;31m# Communicate\u001b[0m\u001b[0;34m\u001b[0m\u001b[0;34m\u001b[0m\u001b[0;34m\u001b[0m\u001b[0m\n\u001b[0;32m-> 1240\u001b[0;31m         \u001b[0mresponse\u001b[0m \u001b[0;34m=\u001b[0m \u001b[0mself\u001b[0m\u001b[0;34m.\u001b[0m\u001b[0m_communicate\u001b[0m\u001b[0;34m(\u001b[0m\u001b[0mrequest\u001b[0m\u001b[0;34m,\u001b[0m \u001b[0mnumber_of_bytes_to_read\u001b[0m\u001b[0;34m)\u001b[0m\u001b[0;34m\u001b[0m\u001b[0;34m\u001b[0m\u001b[0m\n\u001b[0m\u001b[1;32m   1241\u001b[0m \u001b[0;34m\u001b[0m\u001b[0m\n\u001b[1;32m   1242\u001b[0m         \u001b[0;31m# Extract payload\u001b[0m\u001b[0;34m\u001b[0m\u001b[0;34m\u001b[0m\u001b[0;34m\u001b[0m\u001b[0m\n",
      "\u001b[0;32m/home/pi/.local/lib/python3.7/site-packages/minimalmodbus.py\u001b[0m in \u001b[0;36m_communicate\u001b[0;34m(self, request, number_of_bytes_to_read)\u001b[0m\n\u001b[1;32m   1377\u001b[0m \u001b[0;34m\u001b[0m\u001b[0m\n\u001b[1;32m   1378\u001b[0m         \u001b[0;31m# Read response\u001b[0m\u001b[0;34m\u001b[0m\u001b[0;34m\u001b[0m\u001b[0;34m\u001b[0m\u001b[0m\n\u001b[0;32m-> 1379\u001b[0;31m         \u001b[0manswer\u001b[0m \u001b[0;34m=\u001b[0m \u001b[0mself\u001b[0m\u001b[0;34m.\u001b[0m\u001b[0mserial\u001b[0m\u001b[0;34m.\u001b[0m\u001b[0mread\u001b[0m\u001b[0;34m(\u001b[0m\u001b[0mnumber_of_bytes_to_read\u001b[0m\u001b[0;34m)\u001b[0m\u001b[0;34m\u001b[0m\u001b[0;34m\u001b[0m\u001b[0m\n\u001b[0m\u001b[1;32m   1380\u001b[0m         \u001b[0m_latest_read_times\u001b[0m\u001b[0;34m[\u001b[0m\u001b[0mself\u001b[0m\u001b[0;34m.\u001b[0m\u001b[0mserial\u001b[0m\u001b[0;34m.\u001b[0m\u001b[0mport\u001b[0m\u001b[0;34m]\u001b[0m \u001b[0;34m=\u001b[0m \u001b[0m_now\u001b[0m\u001b[0;34m(\u001b[0m\u001b[0;34m)\u001b[0m\u001b[0;34m\u001b[0m\u001b[0;34m\u001b[0m\u001b[0m\n\u001b[1;32m   1381\u001b[0m \u001b[0;34m\u001b[0m\u001b[0m\n",
      "\u001b[0;32m/home/pi/.local/lib/python3.7/site-packages/serial/serialposix.py\u001b[0m in \u001b[0;36mread\u001b[0;34m(self, size)\u001b[0m\n\u001b[1;32m    479\u001b[0m             \u001b[0;32mtry\u001b[0m\u001b[0;34m:\u001b[0m\u001b[0;34m\u001b[0m\u001b[0;34m\u001b[0m\u001b[0m\n\u001b[1;32m    480\u001b[0m                 \u001b[0mstart_time\u001b[0m \u001b[0;34m=\u001b[0m \u001b[0mtime\u001b[0m\u001b[0;34m.\u001b[0m\u001b[0mtime\u001b[0m\u001b[0;34m(\u001b[0m\u001b[0;34m)\u001b[0m\u001b[0;34m\u001b[0m\u001b[0;34m\u001b[0m\u001b[0m\n\u001b[0;32m--> 481\u001b[0;31m                 \u001b[0mready\u001b[0m\u001b[0;34m,\u001b[0m \u001b[0m_\u001b[0m\u001b[0;34m,\u001b[0m \u001b[0m_\u001b[0m \u001b[0;34m=\u001b[0m \u001b[0mselect\u001b[0m\u001b[0;34m.\u001b[0m\u001b[0mselect\u001b[0m\u001b[0;34m(\u001b[0m\u001b[0;34m[\u001b[0m\u001b[0mself\u001b[0m\u001b[0;34m.\u001b[0m\u001b[0mfd\u001b[0m\u001b[0;34m]\u001b[0m\u001b[0;34m,\u001b[0m \u001b[0;34m[\u001b[0m\u001b[0;34m]\u001b[0m\u001b[0;34m,\u001b[0m \u001b[0;34m[\u001b[0m\u001b[0;34m]\u001b[0m\u001b[0;34m,\u001b[0m \u001b[0mtimeout\u001b[0m\u001b[0;34m)\u001b[0m\u001b[0;34m\u001b[0m\u001b[0;34m\u001b[0m\u001b[0m\n\u001b[0m\u001b[1;32m    482\u001b[0m                 \u001b[0;31m# If select was used with a timeout, and the timeout occurs, it\u001b[0m\u001b[0;34m\u001b[0m\u001b[0;34m\u001b[0m\u001b[0;34m\u001b[0m\u001b[0m\n\u001b[1;32m    483\u001b[0m                 \u001b[0;31m# returns with empty lists -> thus abort read operation.\u001b[0m\u001b[0;34m\u001b[0m\u001b[0;34m\u001b[0m\u001b[0;34m\u001b[0m\u001b[0m\n",
      "\u001b[0;31mKeyboardInterrupt\u001b[0m: "
     ]
    }
   ],
   "source": [
    "#!/usr/bin/env python3\n",
    "\n",
    "import doc_objects\n",
    "import time\n",
    "\n",
    "doc_objects.send_msg(723253749, 'Старт скрипта.')\n",
    "\n",
    "g1 = doc_objects.Genset('/dev/ttyS0', 1)\n",
    "g2 = doc_objects.Genset('/dev/ttyS0', 2)\n",
    "g3 = doc_objects.Genset('/dev/ttyS0', 3)\n",
    "g4 = doc_objects.Genset('/dev/ttyS0', 4)\n",
    "g5 = doc_objects.Genset('/dev/ttyS0', 5)\n",
    "\n",
    "doc = (g1, g2, g3, g4, g5)\n",
    "\n",
    "\n",
    "while 1:\n",
    "    \n",
    "#     start_time = time.time()\n",
    "    for g in doc:\n",
    "        g.updates_values()\n",
    "        \n",
    "        if g.engine_state != g.prev_engine_state:\n",
    "            print(f'ГПГУ{g.address}, {g.engine_state}: {g.engine_state}')\n",
    "            doc_objects.send_msg(723253749, f'ГПГУ{g.address}, engine_state: {g.engine_state}')\n",
    "            \n",
    "        if g.breaker_state != g.prev_breaker_state:\n",
    "            print(f'ГПГУ{g.address}, {g.breaker_state}: {g.breaker_state}')\n",
    "            doc_objects.send_msg(723253749, f'ГПГУ{g.address}, breaker_state: {g.breaker_state}')\n",
    "            \n",
    "        if g.gcb_state != g.prev_gcb_state:\n",
    "            print(f'ГПГУ{g.address}, {g.gcb_state}: {g.gcb_state}')\n",
    "            doc_objects.send_msg(723253749, f'ГПГУ{g.address}, gcb_state: {g.gcb_state}')\n",
    "            \n",
    "        if g.protections != g.prev_protections:\n",
    "            print(f'ГПГУ{g.address}: {g.protections}')\n",
    "            doc_objects.send_msg(723253749, f'ГПГУ{g.address}: {g.protections}')\n",
    "#     print((f'{time.time() - start_time:.1f} seconds'))\n"
   ]
  },
  {
   "cell_type": "code",
   "execution_count": 177,
   "metadata": {},
   "outputs": [
    {
     "ename": "SyntaxError",
     "evalue": "invalid syntax (<ipython-input-177-c04eb2e0bf11>, line 1)",
     "output_type": "error",
     "traceback": [
      "\u001b[0;36m  File \u001b[0;32m\"<ipython-input-177-c04eb2e0bf11>\"\u001b[0;36m, line \u001b[0;32m1\u001b[0m\n\u001b[0;31m    20 17.05 ms на один регистр\u001b[0m\n\u001b[0m           ^\u001b[0m\n\u001b[0;31mSyntaxError\u001b[0m\u001b[0;31m:\u001b[0m invalid syntax\n"
     ]
    }
   ],
   "source": [
    "Время опроса всего 130.0 seconds без чанков\n",
    "20 17.05 ms на один регистр\n",
    "10 5.6 ms на один регистр\n",
    "5 8 ms  на регистр\n",
    "1 33 ms на регистр\n",
    "\n",
    "Время опроса всего 7.7 seconds без чанков"
   ]
  },
  {
   "cell_type": "code",
   "execution_count": 5,
   "metadata": {},
   "outputs": [],
   "source": [
    "import telebot\n",
    "token = '1325955552:AAHQJzvhu-IhcMpsVGX5dUsfXTJ7fFECoJs'\n",
    "\n",
    "tb = telebot.TeleBot(token)"
   ]
  },
  {
   "cell_type": "code",
   "execution_count": 8,
   "metadata": {},
   "outputs": [],
   "source": [
    "def send_msg(chat_id, text, disable_web_page_preview=None, reply_to_message_id=None, reply_markup=None, parse_mode=None, disable_notification=None, timeout=None):\n",
    "    try:\n",
    "        tb.send_message(chat_id, text, disable_web_page_preview=None, reply_to_message_id=None, reply_markup=None, parse_mode=None, disable_notification=None, timeout=None)\n",
    "    except Exception as e:\n",
    "        print(e)"
   ]
  }
 ],
 "metadata": {
  "kernelspec": {
   "display_name": "Python 3",
   "language": "python",
   "name": "python3"
  },
  "language_info": {
   "codemirror_mode": {
    "name": "ipython",
    "version": 3
   },
   "file_extension": ".py",
   "mimetype": "text/x-python",
   "name": "python",
   "nbconvert_exporter": "python",
   "pygments_lexer": "ipython3",
   "version": "3.7.3"
  }
 },
 "nbformat": 4,
 "nbformat_minor": 2
}
