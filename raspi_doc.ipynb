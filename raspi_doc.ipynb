{
 "cells": [
  {
   "cell_type": "code",
   "execution_count": 11,
   "metadata": {},
   "outputs": [
    {
     "name": "stderr",
     "output_type": "stream",
     "text": [
      "2021-01-30 15:49:01,880, DEBUG, get_engines_state()\n",
      "2021-01-30 15:49:01,923, DEBUG, Loaded\n",
      "2021-01-30 15:49:01,926, DEBUG, get_breakers_state()\n",
      "2021-01-30 15:49:01,970, DEBUG, MultParOp\n",
      "2021-01-30 15:49:01,974, DEBUG, get_gcb_state()\n",
      "2021-01-30 15:49:02,001, DEBUG, 1\n",
      "2021-01-30 15:49:02,010, DEBUG, get_protect(genset 1)\n",
      "2021-01-30 15:49:02,117, ERROR, Checksum error in rtu mode: '\\x00\\x00' instead of '(u' . The response is: '\\x01\\x03\\x14\\x00\\x00\\x00\\x00\\x00\\x00\\x00\\x00\\x00\\x00\\x00\\x00\\x00\\x00\\x00' (plain response: '\\x01\\x03\\x14\\x00\\x00\\x00\\x00\\x00\\x00\\x00\\x00\\x00\\x00\\x00\\x00\\x00\\x00\\x00')\n",
      "2021-01-30 15:49:02,173, ERROR, No communication with the instrument (no answer)\n",
      "2021-01-30 15:49:02,230, ERROR, Too short Modbus RTU response (minimum length 4 bytes). Response: '¿ßÿ'\n",
      "2021-01-30 15:49:02,568, ERROR, No communication with the instrument (no answer)\n",
      "2021-01-30 15:49:02,626, ERROR, Checksum error in rtu mode: 'ù\\x82' instead of '\\x14Ñ' . The response is: '\\x00ýþtØí\\x7f\\x1f0Àù\\x82' (plain response: '\\x00ýþtØí\\x7f\\x1f0Àù\\x82')\n",
      "2021-01-30 15:49:02,856, ERROR, Too short Modbus RTU response (minimum length 4 bytes). Response: '\\x01\\x03'\n",
      "2021-01-30 15:49:02,914, ERROR, Checksum error in rtu mode: 'tö' instead of 'Mú' . The response is: 'ÐùñÿÿëÇ\\r\\x18`tö' (plain response: 'ÐùñÿÿëÇ\\r\\x18`tö')\n",
      "2021-01-30 15:49:03,050, ERROR, No communication with the instrument (no answer)\n",
      "2021-01-30 15:49:03,108, ERROR, Checksum error in rtu mode: '£g' instead of '\\x92s' . The response is: '\\x80ýÏ\\x9fÿëû¿\\x00\\x00\\x00\\x00£g' (plain response: '\\x80ýÏ\\x9fÿëû¿\\x00\\x00\\x00\\x00£g')\n",
      "2021-01-30 15:49:03,215, ERROR, No communication with the instrument (no answer)\n",
      "2021-01-30 15:49:03,272, ERROR, Too short Modbus RTU response (minimum length 4 bytes). Response: '\\r\\x03\\x14'\n",
      "2021-01-30 15:49:03,394, DEBUG, AC Level Low. Level 1: active, confirmed\n",
      "\n",
      "2021-01-30 15:49:03,399, DEBUG, get_engines_state()\n",
      "2021-01-30 15:49:03,455, ERROR, No communication with the instrument (no answer)\n",
      "2021-01-30 15:49:03,512, ERROR, No communication with the instrument (no answer)\n",
      "2021-01-30 15:49:03,568, ERROR, No communication with the instrument (no answer)\n",
      "2021-01-30 15:49:03,625, ERROR, No communication with the instrument (no answer)\n",
      "2021-01-30 15:49:03,681, ERROR, No communication with the instrument (no answer)\n",
      "2021-01-30 15:49:03,738, ERROR, No communication with the instrument (no answer)\n",
      "2021-01-30 15:49:03,795, ERROR, No communication with the instrument (no answer)\n",
      "2021-01-30 15:49:03,852, ERROR, No communication with the instrument (no answer)\n",
      "2021-01-30 15:49:03,908, ERROR, No communication with the instrument (no answer)\n",
      "2021-01-30 15:49:03,964, ERROR, No communication with the instrument (no answer)\n",
      "2021-01-30 15:49:03,968, DEBUG, get_breakers_state()\n",
      "2021-01-30 15:49:04,026, ERROR, No communication with the instrument (no answer)\n",
      "2021-01-30 15:49:04,083, ERROR, No communication with the instrument (no answer)\n",
      "2021-01-30 15:49:04,140, ERROR, No communication with the instrument (no answer)\n",
      "2021-01-30 15:49:04,196, ERROR, No communication with the instrument (no answer)\n",
      "2021-01-30 15:49:04,253, ERROR, No communication with the instrument (no answer)\n",
      "2021-01-30 15:49:04,310, ERROR, No communication with the instrument (no answer)\n",
      "2021-01-30 15:49:04,366, ERROR, No communication with the instrument (no answer)\n",
      "2021-01-30 15:49:04,423, ERROR, No communication with the instrument (no answer)\n",
      "2021-01-30 15:49:04,480, ERROR, No communication with the instrument (no answer)\n",
      "2021-01-30 15:49:04,537, ERROR, No communication with the instrument (no answer)\n",
      "2021-01-30 15:49:04,540, DEBUG, get_gcb_state()\n",
      "2021-01-30 15:49:04,597, ERROR, No communication with the instrument (no answer)\n",
      "2021-01-30 15:49:04,654, ERROR, No communication with the instrument (no answer)\n",
      "2021-01-30 15:49:04,711, ERROR, No communication with the instrument (no answer)\n",
      "2021-01-30 15:49:04,768, ERROR, No communication with the instrument (no answer)\n",
      "2021-01-30 15:49:04,829, ERROR, No communication with the instrument (no answer)\n",
      "2021-01-30 15:49:04,885, ERROR, No communication with the instrument (no answer)\n",
      "2021-01-30 15:49:04,941, ERROR, No communication with the instrument (no answer)\n",
      "2021-01-30 15:49:04,998, ERROR, No communication with the instrument (no answer)\n",
      "2021-01-30 15:49:05,055, ERROR, No communication with the instrument (no answer)\n",
      "2021-01-30 15:49:05,112, ERROR, No communication with the instrument (no answer)\n",
      "2021-01-30 15:49:05,122, DEBUG, get_protect(genset 2)\n",
      "2021-01-30 15:49:05,184, ERROR, No communication with the instrument (no answer)\n",
      "2021-01-30 15:49:05,240, ERROR, No communication with the instrument (no answer)\n",
      "2021-01-30 15:49:05,296, ERROR, No communication with the instrument (no answer)\n",
      "2021-01-30 15:49:05,353, ERROR, No communication with the instrument (no answer)\n",
      "2021-01-30 15:49:05,410, ERROR, No communication with the instrument (no answer)\n",
      "2021-01-30 15:49:05,466, ERROR, No communication with the instrument (no answer)\n",
      "2021-01-30 15:49:05,522, ERROR, No communication with the instrument (no answer)\n",
      "2021-01-30 15:49:05,579, ERROR, No communication with the instrument (no answer)\n",
      "2021-01-30 15:49:05,635, ERROR, No communication with the instrument (no answer)\n",
      "2021-01-30 15:49:05,692, ERROR, No communication with the instrument (no answer)\n",
      "2021-01-30 15:49:05,696, DEBUG, get_engines_state()\n",
      "2021-01-30 15:49:05,755, DEBUG, Loaded\n",
      "2021-01-30 15:49:05,759, DEBUG, get_breakers_state()\n",
      "2021-01-30 15:49:05,809, DEBUG, MultParOp\n",
      "2021-01-30 15:49:05,813, DEBUG, get_gcb_state()\n",
      "2021-01-30 15:49:05,853, DEBUG, 1\n",
      "2021-01-30 15:49:05,864, DEBUG, get_protect(genset 3)\n",
      "2021-01-30 15:49:06,076, ERROR, Checksum error in rtu mode: '\\x00:' instead of '(:' . The response is: '\\x03\\x03\\x14\\x00\\x00\\x00\\x00\\x00\\x00\\x00\\x00\\x00\\x00\\x00\\x00\\x00\\x00\\x00\\x00\\x00\\x00\\x00\\x00:' (plain response: '\\x03\\x03\\x14\\x00\\x00\\x00\\x00\\x00\\x00\\x00\\x00\\x00\\x00\\x00\\x00\\x00\\x00\\x00\\x00\\x00\\x00\\x00\\x00:')\n",
      "2021-01-30 15:49:06,133, ERROR, Checksum error in rtu mode: '\\x00\\x00' instead of '\\x81?' . The response is: '\\x03\\x03\\x14\\x00\\x00' (plain response: '\\x03\\x03\\x14\\x00\\x00')\n",
      "2021-01-30 15:49:06,191, ERROR, Checksum error in rtu mode: 'ÿü' instead of 'äæ' . The response is: 'ùùúùïÝÿü' (plain response: 'ùùúùïÝÿü')\n",
      "2021-01-30 15:49:06,442, DEBUG, \n",
      "2021-01-30 15:49:06,447, DEBUG, get_engines_state()\n",
      "2021-01-30 15:49:06,481, DEBUG, Loaded\n",
      "2021-01-30 15:49:06,484, DEBUG, get_breakers_state()\n",
      "2021-01-30 15:49:06,542, ERROR, No communication with the instrument (no answer)\n",
      "2021-01-30 15:49:06,563, DEBUG, MultParOp\n",
      "2021-01-30 15:49:06,566, DEBUG, get_gcb_state()\n",
      "2021-01-30 15:49:06,612, DEBUG, 1\n",
      "2021-01-30 15:49:06,619, DEBUG, get_protect(genset 4)\n",
      "2021-01-30 15:49:06,842, ERROR, Checksum error in rtu mode: '\\x00\\x00' instead of 'w«' . The response is: '\\x04\\x03\\x14\\x00\\x00\\x00\\x00\\x00\\x00\\x00\\x00\\x00\\x00\\x00\\x00\\x00\\x00' (plain response: '\\x04\\x03\\x14\\x00\\x00\\x00\\x00\\x00\\x00\\x00\\x00\\x00\\x00\\x00\\x00\\x00\\x00')\n",
      "2021-01-30 15:49:06,900, ERROR, No communication with the instrument (no answer)\n",
      "2021-01-30 15:49:06,958, ERROR, Checksum error in rtu mode: '\\\\\\x08' instead of '_\\x93' . The response is: '\\x00÷þºùïß60`\\x80\\x00\\x00\\x00\\x00\\x00\\\\\\x08' (plain response: '\\x00÷þºùïß60`\\x80\\x00\\x00\\x00\\x00\\x00\\\\\\x08')\n",
      "2021-01-30 15:49:07,238, ERROR, Checksum error in rtu mode: '\\x00\\x00' instead of '$.' . The response is: '\\x04\\x03\\x10\\x00\\x00\\x00\\x00\\x00\\x00\\x00\\x00\\x00' (plain response: '\\x04\\x03\\x10\\x00\\x00\\x00\\x00\\x00\\x00\\x00\\x00\\x00')\n",
      "2021-01-30 15:49:07,295, ERROR, No communication with the instrument (no answer)\n",
      "2021-01-30 15:49:07,328, DEBUG, \n",
      "2021-01-30 15:49:07,332, DEBUG, get_engines_state()\n",
      "2021-01-30 15:49:07,390, ERROR, No communication with the instrument (no answer)\n",
      "2021-01-30 15:49:07,446, ERROR, No communication with the instrument (no answer)\n",
      "2021-01-30 15:49:07,503, ERROR, No communication with the instrument (no answer)\n",
      "2021-01-30 15:49:07,560, ERROR, No communication with the instrument (no answer)\n",
      "2021-01-30 15:49:07,617, ERROR, No communication with the instrument (no answer)\n",
      "2021-01-30 15:49:07,674, ERROR, No communication with the instrument (no answer)\n",
      "2021-01-30 15:49:07,731, ERROR, No communication with the instrument (no answer)\n"
     ]
    },
    {
     "name": "stderr",
     "output_type": "stream",
     "text": [
      "2021-01-30 15:49:07,788, ERROR, No communication with the instrument (no answer)\n",
      "2021-01-30 15:49:07,845, ERROR, No communication with the instrument (no answer)\n",
      "2021-01-30 15:49:07,902, ERROR, No communication with the instrument (no answer)\n",
      "2021-01-30 15:49:07,906, DEBUG, get_breakers_state()\n",
      "2021-01-30 15:49:07,964, ERROR, No communication with the instrument (no answer)\n",
      "2021-01-30 15:49:08,020, ERROR, No communication with the instrument (no answer)\n",
      "2021-01-30 15:49:08,076, ERROR, No communication with the instrument (no answer)\n",
      "2021-01-30 15:49:08,133, ERROR, No communication with the instrument (no answer)\n",
      "2021-01-30 15:49:08,190, ERROR, No communication with the instrument (no answer)\n",
      "2021-01-30 15:49:08,247, ERROR, No communication with the instrument (no answer)\n",
      "2021-01-30 15:49:08,304, ERROR, No communication with the instrument (no answer)\n",
      "2021-01-30 15:49:08,361, ERROR, No communication with the instrument (no answer)\n",
      "2021-01-30 15:49:08,418, ERROR, No communication with the instrument (no answer)\n",
      "2021-01-30 15:49:08,475, ERROR, No communication with the instrument (no answer)\n",
      "2021-01-30 15:49:08,479, DEBUG, get_gcb_state()\n",
      "2021-01-30 15:49:08,536, ERROR, No communication with the instrument (no answer)\n",
      "2021-01-30 15:49:08,593, ERROR, No communication with the instrument (no answer)\n",
      "2021-01-30 15:49:08,649, ERROR, No communication with the instrument (no answer)\n",
      "2021-01-30 15:49:08,706, ERROR, No communication with the instrument (no answer)\n",
      "2021-01-30 15:49:08,763, ERROR, No communication with the instrument (no answer)\n",
      "2021-01-30 15:49:08,820, ERROR, No communication with the instrument (no answer)\n",
      "2021-01-30 15:49:08,877, ERROR, No communication with the instrument (no answer)\n",
      "2021-01-30 15:49:08,934, ERROR, No communication with the instrument (no answer)\n",
      "2021-01-30 15:49:08,991, ERROR, No communication with the instrument (no answer)\n",
      "2021-01-30 15:49:09,047, ERROR, No communication with the instrument (no answer)\n",
      "2021-01-30 15:49:09,056, DEBUG, get_protect(genset 5)\n",
      "2021-01-30 15:49:09,116, ERROR, No communication with the instrument (no answer)\n",
      "2021-01-30 15:49:09,173, ERROR, No communication with the instrument (no answer)\n",
      "2021-01-30 15:49:09,229, ERROR, No communication with the instrument (no answer)\n",
      "2021-01-30 15:49:09,286, ERROR, No communication with the instrument (no answer)\n",
      "2021-01-30 15:49:09,343, ERROR, No communication with the instrument (no answer)\n",
      "2021-01-30 15:49:09,400, ERROR, No communication with the instrument (no answer)\n",
      "2021-01-30 15:49:09,456, ERROR, No communication with the instrument (no answer)\n",
      "2021-01-30 15:49:09,512, ERROR, No communication with the instrument (no answer)\n",
      "2021-01-30 15:49:09,569, ERROR, No communication with the instrument (no answer)\n",
      "2021-01-30 15:49:09,625, ERROR, No communication with the instrument (no answer)\n"
     ]
    },
    {
     "name": "stdout",
     "output_type": "stream",
     "text": [
      "7.7 seconds\n"
     ]
    }
   ],
   "source": [
    "import doc_objects\n",
    "import time\n",
    "\n",
    "start_time = time.time()\n",
    "\n",
    "g1 = doc_objects.Genset('/dev/ttyS0', 1)\n",
    "g2 = doc_objects.Genset('/dev/ttyS0', 2)\n",
    "g3 = doc_objects.Genset('/dev/ttyS0', 3)\n",
    "g4 = doc_objects.Genset('/dev/ttyS0', 4)\n",
    "g5 = doc_objects.Genset('/dev/ttyS0', 5)\n",
    "\n",
    "print((f'{time.time() - start_time:.1f} seconds'))"
   ]
  },
  {
   "cell_type": "code",
   "execution_count": 177,
   "metadata": {
    "collapsed": true
   },
   "outputs": [
    {
     "ename": "SyntaxError",
     "evalue": "invalid syntax (<ipython-input-177-c04eb2e0bf11>, line 1)",
     "output_type": "error",
     "traceback": [
      "\u001b[0;36m  File \u001b[0;32m\"<ipython-input-177-c04eb2e0bf11>\"\u001b[0;36m, line \u001b[0;32m1\u001b[0m\n\u001b[0;31m    20 17.05 ms на один регистр\u001b[0m\n\u001b[0m           ^\u001b[0m\n\u001b[0;31mSyntaxError\u001b[0m\u001b[0;31m:\u001b[0m invalid syntax\n"
     ]
    }
   ],
   "source": [
    "Время опроса всего 130.0 seconds без чанков\n",
    "20 17.05 ms на один регистр\n",
    "10 5.6 ms на один регистр\n",
    "5 8 ms  на регистр\n",
    "1 33 ms на регистр\n",
    "\n",
    "Время опроса всего 7.7 seconds без чанков"
   ]
  },
  {
   "cell_type": "code",
   "execution_count": 197,
   "metadata": {},
   "outputs": [],
   "source": [
    "import minimalmodbus, time\n",
    "\n",
    "g1 = minimalmodbus.Instrument('/dev/ttyS0', 1)\n",
    "g1.serial.baudrate = 19200\n",
    "\n",
    "def read_mb_register(g, registeraddress):\n",
    "    for c in range(10):\n",
    "        try:\n",
    "            return g.read_register(registeraddress)\n",
    "        except Exception as e:\n",
    "            continue\n",
    "    return None\n"
   ]
  },
  {
   "cell_type": "code",
   "execution_count": 10,
   "metadata": {},
   "outputs": [
    {
     "name": "stdout",
     "output_type": "stream",
     "text": [
      "0.0 seconds\n",
      "{5750: ('RemStart/Stop', 'Emergency stop'), 5751: ('GCB Closed', 'GCB Open'), 5752: ('GCB Fail', 'GenMess QF2SHS'), 5753: ('BusMess QF3SHS', 'FireAlarm'), 5754: ('CO/CH4Lev1', 'CO/CH4Lev2'), 5755: ('RFan M1-M3 On', 'RFan M1 Fault'), 5756: ('RFan M2 Fault', 'QF17,18,19 OFF'), 5757: ('not used', 'RFan M3 Fault'), 5758: ('RFan M4 Fault', 'QS1 OFF'), 5759: ('RFan M4-M6 On', 'RFan M5 Fault'), 5760: ('RFan M6 Fault', 'QF20,21,22 OFF'), 5761: ('QF43,44,45,46', 'U Mains Enable'), 5762: ('1KM On SHSN', '2KM On SHSN'), 5763: ('QF37 OFF', 'Inlet Fans ON'), 5764: ('Out Fans ON', 'Inlet FanFault'), 5765: ('Out Fans Fault', 'QF32,33,34 OFF'), 5766: ('QF35,36 OFF', 'QF47,48 OFF'), 5767: ('QF49,50 OFF', 'Service'), 5768: ('Mains SupllyOn', 'Gen Suplly On'), 5769: ('Rad Fan Auto', 'Rad Fan Manual'), 5770: ('In LouversAuto', 'In LouversMan'), 5771: ('OutLouversAuto', 'OutLouversMan'), 5773: ('BIN-4 7', 'MCB f/b aux'), 5774: ('ER Heater Auto', 'ER Heater Man'), 5775: ('Gen HeaterAuto', 'Gen Heater Man'), 5776: ('LouvHeaterAuto', 'LouvHeaterMan'), 5777: ('BrHeater Auto', 'BrHeater Man'), 5778: ('JW Heater Auto', 'JW Heater Man'), 5779: ('JW Level High', 'JW Level Low'), 5780: ('AC Level High', 'AC Level Low'), 5781: ('FaultResButton', 'CDVR Alarm'), 5782: ('CDVR Sd', 'A8 Open'), 5784: ('A9 Closed', 'Out LoversOpen'), 5785: ('OutLoversClose', 'Engine SD'), 5786: ('Engine Alarm', 'Auto Mode'), 5787: ('Test Mode', 'Water Flow'), 5806: ('MCB feedback', 'VPIO-1 2'), 5864: ('Engine Temp', 'Oil Pressure'), 5865: ('Oil Temp', 'Manifold Temp'), 5866: ('Manifold Press', 'Actual Timing'), 5867: ('Desired Timing', 'Detonation'), 5868: ('Cylinder 1', 'Cylinder 2'), 5869: ('Cylinder 3', 'Cylinder 4'), 5870: ('Cylinder 5', 'Cylinder 6'), 5871: ('Cylinder 7', 'Cylinder 8'), 5872: ('Cylinder 9', 'Cylinder 10'), 5873: ('Cylinder 11', 'Cylinder 12'), 5874: ('Cylinder 13', 'Cylinder 14'), 5875: ('Cylinder 15', 'Cylinder 16'), 5876: ('JW Flap Real', 'AIN-4 2'), 5877: ('AC InTemp', 'AC OutTemp'), 5878: ('Gen Bearing', 'JW InTemp'), 5879: ('Gas Temp', 'ManifoldPress'), 5880: ('Temp ER 1', 'Temp ER 2'), 5881: ('Temp Outside', 'Gas Pressure'), 5882: ('Gen WindA', 'Gen WindB'), 5883: ('Gen WindC', 'TempJWOutEng'), 5948: ('SHAinCfgErr', 'PLC Message 1'), 5949: ('PLC State 2', 'PLC State 3'), 5950: ('PLC State 4', 'ActCall Fail'), 5951: ('ECUDiagBlocked', 'Wrong config'), 5952: ('RTCbatteryFlat', 'System error'), 5953: ('UnauthorizCopy', 'Low Temp ER'), 5954: ('Batt volt', 'Bus V over'), 5955: ('Gen V unbal', 'Gen I unbal'), 5956: ('Bus V unbal', 'Bus V under'), 5962: ('Emergency stop', 'RPM'), 5964: ('Sd Stop fail', 'Overspeed'), 5965: ('Underspeed', 'Pickup fail'), 5966: ('Sd ExtBattFlat', 'WrnServiceT1+2'), 5967: ('WrnServiceT3+4', 'Not lubricated'), 5968: ('Start fail', 'Start blocking'), 5969: ('Wrn CylTemp1', 'Wrn CylTemp2'), 5970: ('Wrn CylTemp3', 'Wrn CylTemp4'), 5971: ('Wrn CylTemp5', 'Wrn CylTemp6'), 5972: ('Wrn CylTemp7', 'Wrn CylTemp8'), 5973: ('Wrn CylTemp9', 'Wrn CylTemp10'), 5974: ('Wrn CylTemp11', 'Wrn CylTemp12'), 5975: ('Wrn CylTemp13', 'Wrn CylTemp14'), 5976: ('Wrn CylTemp15', 'Wrn CylTemp16'), 5977: ('Wrn CylTemp17', 'Wrn CylTemp18'), 5978: ('Wrn CylTemp19', 'Wrn CylTemp20'), 5979: ('Wrn CylTemp21', 'Wrn CylTemp22'), 5980: ('Wrn CylTemp23', 'Wrn CylTemp24'), 5981: ('Wrn CylTemp25', 'Wrn CylTemp26'), 5982: ('Wrn CylTemp27', 'Wrn CylTemp28'), 5983: ('Wrn CylTemp29', 'Wrn CylTemp30'), 5984: ('Wrn CylTemp31', 'Wrn CylTemp32'), 5985: ('Wrn MCB fail', 'Stp GCB fail'), 5986: ('Sd Oil press B', 'Wrn RSync fail'), 5987: ('Stp Sync fail', 'BOC L1 under'), 5988: ('BOC L2 under', 'BOC L3 under'), 5989: ('BOC L1 over', 'BOC L2 over'), 5990: ('BOC L3 over', 'Sd L1 over'), 5991: ('Sd L2 over', 'Sd L3 over'), 5992: ('BOC L12 under', 'BOC L23 under'), 5993: ('BOC L31 under', 'BOC L12 over'), 5994: ('BOC L23 over', 'BOC L31 over'), 5995: ('Sd L12 over', 'Sd L23 over'), 5996: ('Sd L31 over', 'Gen V L1-N'), 5997: ('Gen V L2-N', 'Gen V L3-N'), 5998: ('Gen V L1-L2', 'Gen V L2-L3'), 5999: ('Gen V L3-L1', 'Gen freq'), 6200: ('BOC fgen under', 'BOC fgen over'), 6201: ('BOC ReversePwr', 'MP L1 under'), 6202: ('MP L2 under', 'MP L3 under'), 6203: ('MP L1 over', 'MP L2 over'), 6204: ('MP L3 over', 'MP L12 under'), 6205: ('MP L23 under', 'MP L31 under'), 6206: ('MP L12 over', 'MP L23 over'), 6207: ('MP L31 over', 'MP fmns under'), 6208: ('MP fmns over', 'MainsAvg>V'), 6209: ('Bus V L1-N', 'Bus V L2-N'), 6210: ('Bus V L3-N', 'Bus V L1-L2'), 6211: ('Bus V L2-L3', 'Bus V L3-L1'), 6212: ('Bus freq', 'Bus meas error'), 6213: ('OperConflict', 'BOC IDMT'), 6214: ('BOC ShortCurr', 'BOC Overload'), 6215: ('BOC NCB fail', 'Wrn BadPwrCfg'), 6216: ('Wrn Addr error', 'Manual Restore'), 6217: ('WrnTstOnLdFail', 'Wrn SpdRegLim'), 6218: ('Wrn VoltRegLim', 'G L neg'), 6219: ('G ph+L neg', 'G ph opposed'), 6220: ('M L neg', 'M ph+L neg'), 6221: ('M ph opposed', 'Wrn FuelTheft'), 6222: ('PassInsertBlck', 'Cleaning'), 6223: ('BOC ExctLoss', 'BOC Ieth IDMT'), 6224: ('Incom. periph.', 'NoBankCUdetect'), 6247: ('Wrn SUSminPwr', 'SUS seq blck'), 6248: ('BOC LossEngPwr', 'Sd Engine fail'), 6249: ('Wrn DPF Lamp', 'Wrn HEST Lamp'), 6250: ('Wrn MalfnctLmp', 'WrnDEFLwLvlLmp')}\n"
     ]
    }
   ],
   "source": [
    "start_time = time.time()\n",
    "\n",
    "def get_protect_dict():\n",
    "    \n",
    "    protect_dict = {}\n",
    "    if g1.address in (1, 2):\n",
    "        with open('protections_3516.txt') as f:\n",
    "            data_lines = f.readlines()\n",
    "    elif genset.address in (3, 4, 5):\n",
    "        with open('protections_3520.txt') as f:\n",
    "            data_lines = f.readlines()\n",
    "    \n",
    "    for p in data_lines:\n",
    "        # [6211, 'Bus V L2-L3', 'Bus V L3-L1']\n",
    "        protect_dict[int(p[:5])-40001] = (p[17:37].strip(), p[37:].strip())\n",
    "            \n",
    "    return protect_dict\n",
    "\n",
    "print((f'{time.time() - start_time:.1f} seconds'))\n",
    "\n",
    "print(get_protect_dict())"
   ]
  }
 ],
 "metadata": {
  "kernelspec": {
   "display_name": "Python 3",
   "language": "python",
   "name": "python3"
  },
  "language_info": {
   "codemirror_mode": {
    "name": "ipython",
    "version": 3
   },
   "file_extension": ".py",
   "mimetype": "text/x-python",
   "name": "python",
   "nbconvert_exporter": "python",
   "pygments_lexer": "ipython3",
   "version": "3.7.3"
  }
 },
 "nbformat": 4,
 "nbformat_minor": 2
}
